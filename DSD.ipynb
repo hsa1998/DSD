{
 "cells": [
  {
   "cell_type": "markdown",
   "id": "44a50a7a-2e04-4e4f-9321-7c89b63f24eb",
   "metadata": {},
   "source": [
    "objective 1: organize and query DSD files coming into email\n",
    "\n",
    "objective 2: generate a database that describes all orders based on location with key details provided\n",
    "\n",
    "objective 3: send an email (or generate an email to be sent) with the latest delivery details"
   ]
  },
  {
   "cell_type": "markdown",
   "id": "19973109-36a5-478d-9b60-32a9bd84e270",
   "metadata": {},
   "source": [
    "objective 1: organize and query DSD files coming into email\n",
    "\n",
    "1. connect to imaplib to query emails\n",
    "2. filter out non-dsd emails\n",
    "3. retrieve pdfs and read data\n",
    "4. return: map to database and indicate as to-send (consider assigning invoices as well), log pdfs to a repository"
   ]
  },
  {
   "cell_type": "code",
   "execution_count": 93,
   "id": "1ca62dd6-268c-42f7-857e-b62c69b80606",
   "metadata": {},
   "outputs": [
    {
     "name": "stdout",
     "output_type": "stream",
     "text": [
      "Connection Object: <imaplib.IMAP4_SSL object at 0x00000211EBE0D880>\n",
      "Total Time Taken: 1.29 Seconds\n"
     ]
    }
   ],
   "source": [
    "import imaplib\n",
    "import time\n",
    "import base64\n",
    "import os\n",
    "\n",
    "ssl_host = 'imap.exmail.qq.com'\n",
    "ssl_port = 993\n",
    "username = 'intcocanada@intco.com'\n",
    "password = 'IntCan24'\n",
    "start = time.time()\n",
    "\n",
    "try:\n",
    "    imap = imaplib.IMAP4_SSL(host = ssl_host, port = ssl_port, timeout=2)\n",
    "except Exception as e:\n",
    "    print('ErrorType: {}, Error: {},'.format(type(e).__name__, e))\n",
    "    imap = None\n",
    "\n",
    "print('Connection Object: {}'.format(imap))\n",
    "print('Total Time Taken: {:,.2f} Seconds'.format(time.time() - start))"
   ]
  },
  {
   "cell_type": "code",
   "execution_count": 94,
   "id": "022a015a-3c68-496d-823a-59e6ec9b7557",
   "metadata": {},
   "outputs": [
    {
     "name": "stdout",
     "output_type": "stream",
     "text": [
      "Logging into mailbox...\n",
      "Response Code : OK\n",
      "Response      : Success login ok\n",
      "\n"
     ]
    }
   ],
   "source": [
    "print('Logging into mailbox...')\n",
    "\n",
    "try:\n",
    "    resp_code, response = imap.login(username, password)\n",
    "except Exception as e:\n",
    "    print('ErrorType: {}, Error: {},'.format(type(e).__name__, e))\n",
    "    resp_code, response = None\n",
    "\n",
    "print(\"Response Code : {}\".format(resp_code))\n",
    "print(\"Response      : {}\\n\".format(response[0].decode()))\n"
   ]
  },
  {
   "cell_type": "code",
   "execution_count": null,
   "id": "a9cef4a1-993b-476c-b7bb-4f740e0c3d3c",
   "metadata": {
    "jupyter": {
     "source_hidden": true
    }
   },
   "outputs": [],
   "source": [
    "print('Logging out of mailbox...')\n",
    "\n",
    "try:\n",
    "    resp_code, response = imap.logout()\n",
    "except Exception as e:\n",
    "    print('ErrorType: {}, Error: {},'.format(type(e).__name__, e))\n",
    "    resp_code, response = None\n",
    "\n",
    "print(\"Response Code : {}\".format(resp_code))\n",
    "print(\"Response      : {}\\n\".format(response[0].decode()))\n",
    "    "
   ]
  },
  {
   "cell_type": "code",
   "execution_count": null,
   "id": "c3c29b8d-a012-4164-8d21-531d561230e8",
   "metadata": {
    "jupyter": {
     "source_hidden": true
    }
   },
   "outputs": [],
   "source": [
    "try:\n",
    "    resp_code, directories = imap.list()\n",
    "except Exception as e:\n",
    "    print(\"ErrorType : {}, Error : {}\".format(type(e).__name__, e))\n",
    "    resp_code, directories = None, None\n",
    "\n",
    "print(\"Response Code : {}\".format(resp_code))\n",
    "print(\"========= List of Directories =================\\n\")\n",
    "for directory in directories:\n",
    "    print(directory.decode())"
   ]
  },
  {
   "cell_type": "code",
   "execution_count": 125,
   "id": "a5fa98ad-4981-4de2-acf4-369b8a4caf98",
   "metadata": {},
   "outputs": [
    {
     "data": {
      "text/plain": [
       "('OK', [b'284'])"
      ]
     },
     "execution_count": 125,
     "metadata": {},
     "output_type": "execute_result"
    }
   ],
   "source": [
    "imap.select('INBOX')"
   ]
  },
  {
   "cell_type": "code",
   "execution_count": 126,
   "id": "df40c965-7654-4e48-b32e-ae985df0a444",
   "metadata": {},
   "outputs": [],
   "source": [
    "criteria = '(SUBJECT \"Purchase Order\" FROM \"tntpo@tntsupermarket.com\" <tntpo@tntsupermarket.com>)'\n",
    "status, data = imap.search(None, criteria)"
   ]
  },
  {
   "cell_type": "code",
   "execution_count": 138,
   "id": "b20a609e-6b7e-4a1c-aeb1-767c3014eb73",
   "metadata": {},
   "outputs": [],
   "source": [
    "message_ids = data[0].decode().split()\n",
    "message_ids[247]\n",
    "# message = email.message_from_bytes(imap.fetch('248', '(RFC822)'))\n",
    "message = imap.fetch('247', '(RFC822)')\n",
    "for part in email.message_from_bytes(message[1][0][1]).walk():\n",
    "    if part.get_content_maintype() == 'multipart':\n",
    "        continue\n",
    "    if part.get('Content-Disposition') is None:\n",
    "        continue\n",
    "    fileName = part.get_filename()\n",
    "    if bool(fileName):\n",
    "        filePath = os.path.join(r\"C:\\Users\\Owner\\Downloads\", fileName)\n",
    "        if not os.path.isfile(filePath) :\n",
    "            fp = open(filePath, 'wb')\n",
    "            fp.write(part.get_payload(decode=True))\n",
    "            fp.close()"
   ]
  },
  {
   "cell_type": "code",
   "execution_count": null,
   "id": "76583005-bd51-4be0-b1d0-de781c8a4195",
   "metadata": {},
   "outputs": [],
   "source": [
    "message_ids = data[0].decode().split()\n",
    "message_ids\n",
    "for id in reversed(message_ids):\n",
    "    message = email.message_from_bytes(imap.fetch(id, '(RFC822)')[1][0][1])\n",
    "    if message.get('From') == '\"tntpo@tntsupermarket.com\" <tntpo@tntsupermarket.com>':\n",
    "        print('{}, Date: {}, {}: {}'.format(id, message.get('Date'), message.get('From'), message.get('Subject')))\n",
    "    \n",
    "    # for part in message.walk():\n",
    "    #     if part.get_content_type() in ['text/plain']:\n",
    "    #         body_lines = part.as_string().split('\\n')\n",
    "    #         body = base64.b64decode(\"\".join(body_lines[4:]))\n",
    "    #         body = body.decode('utf-8')\n",
    "    #         print(email.message_from_string(body))"
   ]
  },
  {
   "cell_type": "code",
   "execution_count": null,
   "id": "9cd6a1ea-1579-4cc5-ab28-5183b27d92ab",
   "metadata": {},
   "outputs": [],
   "source": [
    "resp_code, inbox = imap.select('INBOX', readonly=True)\n",
    "resp_code, mail_ids = imap.search(None, 'FROM \")')"
   ]
  },
  {
   "cell_type": "code",
   "execution_count": null,
   "id": "3199d1aa-748a-4182-bc20-e8c50a1cd0be",
   "metadata": {},
   "outputs": [],
   "source": [
    "import email\n",
    "import base64\n",
    "import os\n",
    "for mail_id in mail_ids[0].decode().split()[-2]:\n",
    "    resp_code, mail_data = imap.fetch(mail_id, '(RFC822)')\n",
    "    message = email.message_from_bytes(mail_data[0][1])\n",
    "    print('Mail Id: {}'.format(mail_id))\n",
    "    print('From: {}'.format(message.get('From')))\n",
    "    for part in message.walk():\n",
    "        if part.get_content_type() == 'text/plain':\n",
    "            body_lines = part.as_string().split('\\n')\n",
    "            print('\\n'.join(body_lines[:12]))\n",
    "    break"
   ]
  },
  {
   "cell_type": "code",
   "execution_count": null,
   "id": "a9330bd8-d542-4317-814d-874a308a0744",
   "metadata": {},
   "outputs": [],
   "source": [
    "message = email.message_from_bytes(imap.fetch(mail_ids[0].decode().split()[-1], '(RFC822)')[1][0][1])\n",
    "for part in message.walk():\n",
    "    if part.get_content_type() in ['text/plain']:\n",
    "        body_lines = part.as_string().split('\\n')\n",
    "        body = base64.b64decode(\"\".join(body_lines[4:]))\n",
    "        # display(email.message_from_string(body))\n",
    "        body = body.decode('utf-8')\n",
    "        \n",
    "    # display(body_lines[7].split('\\n'))\n",
    "    # display('break')"
   ]
  },
  {
   "cell_type": "code",
   "execution_count": null,
   "id": "f4f9dac0-fa8d-4e98-bb94-256073fae145",
   "metadata": {},
   "outputs": [],
   "source": [
    "print(email.message_from_string(body))"
   ]
  },
  {
   "cell_type": "code",
   "execution_count": null,
   "id": "a3e9b9ee-a0ec-439f-baae-85763852d9c6",
   "metadata": {},
   "outputs": [],
   "source": [
    "mail_ids = data[0]\n",
    "mail_ids = mail_ids.split()\n",
    "latest_email = mail_ids[-1]\n",
    "result, data  = imap.fetch(latest_email, '(RFC822)')\n",
    "raw_email = data[0][1]\n",
    "raw_email.get('FROM')"
   ]
  },
  {
   "cell_type": "markdown",
   "id": "07bd5f61-f8a4-4a8c-a129-c79f671d3ade",
   "metadata": {},
   "source": [
    "objective 2: generate a database that describes all orders based on location with key details provided\n",
    "\n",
    "Summary: Build database based on key variables\n",
    "1) Subject Line - email\n",
    "2) PO Number - pdf\n",
    "3) Order Date - pdf\n",
    "4) Delivery Date - pdf\n",
    "5) Store - pdf\n",
    "6) Address - pdf\n",
    "7) Item, Description, Quantity, Price - pdf\n",
    "8) delivery status - logic"
   ]
  },
  {
   "cell_type": "markdown",
   "id": "b6799386-6a1c-48c3-862d-c4ac2bc2f4dd",
   "metadata": {},
   "source": [
    "objective 3: send an email (or generate an email to be sent) with the latest delivery details\n",
    "\n",
    "1. query database for deliveries not completed yet\n",
    "2. prepare email body\n",
    "3. retrieve POs and Invoices to attach to email body"
   ]
  }
 ],
 "metadata": {
  "kernelspec": {
   "display_name": "Python 3 (ipykernel)",
   "language": "python",
   "name": "python3"
  },
  "language_info": {
   "codemirror_mode": {
    "name": "ipython",
    "version": 3
   },
   "file_extension": ".py",
   "mimetype": "text/x-python",
   "name": "python",
   "nbconvert_exporter": "python",
   "pygments_lexer": "ipython3",
   "version": "3.12.0"
  }
 },
 "nbformat": 4,
 "nbformat_minor": 5
}
