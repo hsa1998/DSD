{
 "cells": [
  {
   "cell_type": "markdown",
   "id": "44a50a7a-2e04-4e4f-9321-7c89b63f24eb",
   "metadata": {},
   "source": [
    "objective 1: organize and query DSD files coming into email\n",
    "\n",
    "objective 2: generate a database that describes all orders based on location with key details provided\n",
    "\n",
    "objective 3: send an email (or generate an email to be sent) with the latest delivery details"
   ]
  },
  {
   "cell_type": "markdown",
   "id": "19973109-36a5-478d-9b60-32a9bd84e270",
   "metadata": {},
   "source": [
    "objective 1: organize and query DSD files coming into email\n",
    "\n",
    "1. connect to imaplib to query emails\n",
    "2. filter out non-dsd emails\n",
    "3. retrieve pdfs and read data\n",
    "4. return: map to database and indicate as to-send (consider assigning invoices as well), log pdfs to a repository"
   ]
  },
  {
   "cell_type": "code",
   "execution_count": 47,
   "id": "1ca62dd6-268c-42f7-857e-b62c69b80606",
   "metadata": {},
   "outputs": [
    {
     "name": "stdout",
     "output_type": "stream",
     "text": [
      "Connection Object: <imaplib.IMAP4_SSL object at 0x000002232CA115E0>\n",
      "Total Time Taken: 1.28 Seconds\n"
     ]
    }
   ],
   "source": [
    "import imaplib\n",
    "import time\n",
    "\n",
    "ssl_host = 'imap.exmail.qq.com'\n",
    "ssl_port = 993\n",
    "username = 'intcocanada@intco.com'\n",
    "password = 'IntCan24'\n",
    "start = time.time()\n",
    "\n",
    "try:\n",
    "    imap = imaplib.IMAP4_SSL(host = ssl_host, port = ssl_port, timeout=2)\n",
    "except Exception as e:\n",
    "    print('ErrorType: {}, Error: {},'.format(type(e).__name__, e))\n",
    "    imap = None\n",
    "\n",
    "print('Connection Object: {}'.format(imap))\n",
    "print('Total Time Taken: {:,.2f} Seconds'.format(time.time() - start))"
   ]
  },
  {
   "cell_type": "code",
   "execution_count": 48,
   "id": "022a015a-3c68-496d-823a-59e6ec9b7557",
   "metadata": {},
   "outputs": [
    {
     "name": "stdout",
     "output_type": "stream",
     "text": [
      "Logging into mailbox...\n",
      "Response Code : OK\n",
      "Response      : Success login ok\n",
      "\n"
     ]
    }
   ],
   "source": [
    "print('Logging into mailbox...')\n",
    "\n",
    "try:\n",
    "    resp_code, response = imap.login(username, password)\n",
    "except Exception as e:\n",
    "    print('ErrorType: {}, Error: {},'.format(type(e).__name__, e))\n",
    "    resp_code, response = None\n",
    "\n",
    "print(\"Response Code : {}\".format(resp_code))\n",
    "print(\"Response      : {}\\n\".format(response[0].decode()))\n"
   ]
  },
  {
   "cell_type": "code",
   "execution_count": 57,
   "id": "a9cef4a1-993b-476c-b7bb-4f740e0c3d3c",
   "metadata": {},
   "outputs": [
    {
     "name": "stdout",
     "output_type": "stream",
     "text": [
      "Logging out of mailbox...\n",
      "Response Code : BYE\n",
      "Response      : LOGOUT received\n",
      "\n"
     ]
    }
   ],
   "source": [
    "print('Logging out of mailbox...')\n",
    "\n",
    "try:\n",
    "    resp_code, response = imap.logout()\n",
    "except Exception as e:\n",
    "    print('ErrorType: {}, Error: {},'.format(type(e).__name__, e))\n",
    "    resp_code, response = None\n",
    "\n",
    "print(\"Response Code : {}\".format(resp_code))\n",
    "print(\"Response      : {}\\n\".format(response[0].decode()))\n",
    "    "
   ]
  },
  {
   "cell_type": "code",
   "execution_count": 49,
   "id": "c3c29b8d-a012-4164-8d21-531d561230e8",
   "metadata": {},
   "outputs": [
    {
     "name": "stdout",
     "output_type": "stream",
     "text": [
      "Response Code : OK\n",
      "========= List of Directories =================\n",
      "\n",
      "(\\NoSelect \\HasChildren) \"/\" \"&UXZO1mWHTvZZOQ-\"\n",
      "(\\HasNoChildren) \"/\" \"&UXZO1mWHTvZZOQ-/PRODUCTINFORMATION\"\n",
      "(\\HasNoChildren) \"/\" \"Deleted Messages\"\n",
      "(\\HasNoChildren) \"/\" \"Drafts\"\n",
      "(\\HasNoChildren) \"/\" \"Sent Messages\"\n",
      "(\\HasNoChildren) \"/\" \"Junk\"\n",
      "(\\HasNoChildren) \"/\" \"INBOX\"\n"
     ]
    }
   ],
   "source": [
    "try:\n",
    "    resp_code, directories = imap.list()\n",
    "except Exception as e:\n",
    "    print(\"ErrorType : {}, Error : {}\".format(type(e).__name__, e))\n",
    "    resp_code, directories = None, None\n",
    "\n",
    "print(\"Response Code : {}\".format(resp_code))\n",
    "print(\"========= List of Directories =================\\n\")\n",
    "for directory in directories:\n",
    "    print(directory.decode())"
   ]
  },
  {
   "cell_type": "code",
   "execution_count": 50,
   "id": "9cd6a1ea-1579-4cc5-ab28-5183b27d92ab",
   "metadata": {},
   "outputs": [],
   "source": [
    "resp_code, inbox = imap.select('INBOX', readonly=True)\n",
    "resp_code, mail_ids = imap.search(None, '(FROM \"Bing Hu\" SUBJECT \"Re: RE: July Orders - T&T\")')"
   ]
  },
  {
   "cell_type": "code",
   "execution_count": 51,
   "id": "3199d1aa-748a-4182-bc20-e8c50a1cd0be",
   "metadata": {},
   "outputs": [
    {
     "name": "stdout",
     "output_type": "stream",
     "text": [
      "Mail Id: 2\n",
      "From: \"Lana Allen\" <lanaallen012@gmail.com>\n",
      "Content-Type: text/plain;\n",
      "\tcharset=\"us-ascii\"\n",
      "Content-Transfer-Encoding: 7bit\n",
      "\n",
      "Hey,\n",
      "\n",
      "I wanted to follow up on the information I provided in my last email\n",
      "regarding our database of Pharmaceuticals in United States.\n",
      "\n",
      "If you express interest, we will provide you with pricing, counts, and\n",
      "samples to examine.\n",
      "\n"
     ]
    }
   ],
   "source": [
    "import email\n",
    "for mail_id in mail_ids[0].decode().split()[-2]:\n",
    "    resp_code, mail_data = imap.fetch(mail_id, '(RFC822)')\n",
    "    message = email.message_from_bytes(mail_data[0][1])\n",
    "    print('Mail Id: {}'.format(mail_id))\n",
    "    print('From: {}'.format(message.get('From')))\n",
    "    for part in message.walk():\n",
    "        if part.get_content_type() == 'text/plain':\n",
    "            body_lines = part.as_string().split('\\n')\n",
    "            print('\\n'.join(body_lines[:12]))\n",
    "    break"
   ]
  },
  {
   "cell_type": "code",
   "execution_count": 92,
   "id": "a9330bd8-d542-4317-814d-874a308a0744",
   "metadata": {},
   "outputs": [
    {
     "data": {
      "text/plain": [
       "'multipart/related'"
      ]
     },
     "metadata": {},
     "output_type": "display_data"
    },
    {
     "data": {
      "text/plain": [
       "'multipart/alternative'"
      ]
     },
     "metadata": {},
     "output_type": "display_data"
    },
    {
     "data": {
      "text/plain": [
       "'text/plain'"
      ]
     },
     "metadata": {},
     "output_type": "display_data"
    },
    {
     "data": {
      "text/plain": [
       "'text/html'"
      ]
     },
     "metadata": {},
     "output_type": "display_data"
    },
    {
     "data": {
      "text/plain": [
       "'application/octet-stream'"
      ]
     },
     "metadata": {},
     "output_type": "display_data"
    },
    {
     "data": {
      "text/plain": [
       "'application/octet-stream'"
      ]
     },
     "metadata": {},
     "output_type": "display_data"
    }
   ],
   "source": [
    "message = email.message_from_bytes(imap.fetch(mail_ids[0].decode().split()[-1], '(RFC822)')[1][0][1])\n",
    "for part in message.walk():\n",
    "    if part.get_content_type\n",
    "    body_lines = part.as_string().split('\\n')\n",
    "    display(part.get_content_type())\n",
    "    # display(body_lines[7].split('\\n'))\n",
    "    # display('break')"
   ]
  },
  {
   "cell_type": "code",
   "execution_count": 33,
   "id": "a3e9b9ee-a0ec-439f-baae-85763852d9c6",
   "metadata": {},
   "outputs": [
    {
     "ename": "AttributeError",
     "evalue": "'tuple' object has no attribute 'split'",
     "output_type": "error",
     "traceback": [
      "\u001b[1;31m---------------------------------------------------------------------------\u001b[0m",
      "\u001b[1;31mAttributeError\u001b[0m                            Traceback (most recent call last)",
      "Cell \u001b[1;32mIn[33], line 2\u001b[0m\n\u001b[0;32m      1\u001b[0m mail_ids \u001b[38;5;241m=\u001b[39m data[\u001b[38;5;241m0\u001b[39m]\n\u001b[1;32m----> 2\u001b[0m mail_ids \u001b[38;5;241m=\u001b[39m \u001b[43mmail_ids\u001b[49m\u001b[38;5;241;43m.\u001b[39;49m\u001b[43msplit\u001b[49m()\n\u001b[0;32m      3\u001b[0m latest_email \u001b[38;5;241m=\u001b[39m mail_ids[\u001b[38;5;241m-\u001b[39m\u001b[38;5;241m1\u001b[39m]\n\u001b[0;32m      4\u001b[0m result, data  \u001b[38;5;241m=\u001b[39m imap\u001b[38;5;241m.\u001b[39mfetch(latest_email, \u001b[38;5;124m'\u001b[39m\u001b[38;5;124m(RFC822)\u001b[39m\u001b[38;5;124m'\u001b[39m)\n",
      "\u001b[1;31mAttributeError\u001b[0m: 'tuple' object has no attribute 'split'"
     ]
    }
   ],
   "source": [
    "mail_ids = data[0]\n",
    "mail_ids = mail_ids.split()\n",
    "latest_email = mail_ids[-1]\n",
    "result, data  = imap.fetch(latest_email, '(RFC822)')\n",
    "raw_email = data[0][1]\n",
    "raw_email.get('FROM')"
   ]
  },
  {
   "cell_type": "markdown",
   "id": "07bd5f61-f8a4-4a8c-a129-c79f671d3ade",
   "metadata": {},
   "source": [
    "objective 2: generate a database that describes all orders based on location with key details provided\n",
    "\n",
    "Summary: Build database based on key variables\n",
    "1) PO Number\n",
    "2) Order Date\n",
    "3) Delivery Date\n",
    "4) Store\n",
    "5) Address\n",
    "6) Item, Description, Quantity, Price\n",
    "7) delivery status"
   ]
  },
  {
   "cell_type": "markdown",
   "id": "b6799386-6a1c-48c3-862d-c4ac2bc2f4dd",
   "metadata": {},
   "source": [
    "objective 3: send an email (or generate an email to be sent) with the latest delivery details\n",
    "\n",
    "1. query database for deliveries not completed yet\n",
    "2. prepare email body\n",
    "3. retrieve POs and Invoices to attach to email body"
   ]
  }
 ],
 "metadata": {
  "kernelspec": {
   "display_name": "Python 3 (ipykernel)",
   "language": "python",
   "name": "python3"
  },
  "language_info": {
   "codemirror_mode": {
    "name": "ipython",
    "version": 3
   },
   "file_extension": ".py",
   "mimetype": "text/x-python",
   "name": "python",
   "nbconvert_exporter": "python",
   "pygments_lexer": "ipython3",
   "version": "3.12.0"
  }
 },
 "nbformat": 4,
 "nbformat_minor": 5
}
